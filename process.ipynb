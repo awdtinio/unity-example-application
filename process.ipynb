{
 "cells": [
  {
   "cell_type": "code",
   "execution_count": null,
   "id": "04ac7f2d",
   "metadata": {
    "tags": [
     "parameters"
    ]
   },
   "outputs": [],
   "source": [
    "input_filename = [{'path': '/tmp/input_file'}] # type: stage-in\n",
    "output_filename = 'lines_numbered.txt'         # type: stage-out\n",
    "line_offset = 0"
   ]
  },
  {
   "cell_type": "code",
   "execution_count": null,
   "id": "198423ee",
   "metadata": {},
   "outputs": [],
   "source": [
    "print(f\"Reading {input_filename[0]['path']}\")\n",
    "\n",
    "with open(input_filename[0]['path']) as input_file:\n",
    "    input_lines = input_file.readlines()"
   ]
  },
  {
   "cell_type": "code",
   "execution_count": null,
   "id": "07f23b67",
   "metadata": {},
   "outputs": [],
   "source": [
    "print(f\"Creating output {output_filename}\")\n",
    "\n",
    "line_number = line_offset\n",
    "with open(output_filename, \"w\") as output_file:\n",
    "    for line in input_lines:\n",
    "        line_number += 1\n",
    "        line = line.rstrip()\n",
    "        print(f\"{line_number} : {line}\", file=output_file)"
   ]
  },
  {
   "cell_type": "code",
   "execution_count": null,
   "id": "a4219fd1",
   "metadata": {},
   "outputs": [],
   "source": [
    "print(f\"Finished with {line_number} lines\")"
   ]
  }
 ],
 "metadata": {
  "celltoolbar": "Tags",
  "kernelspec": {
   "display_name": "Python 3 (ipykernel)",
   "language": "python",
   "name": "python3"
  },
  "language_info": {
   "codemirror_mode": {
    "name": "ipython",
    "version": 3
   },
   "file_extension": ".py",
   "mimetype": "text/x-python",
   "name": "python",
   "nbconvert_exporter": "python",
   "pygments_lexer": "ipython3",
   "version": "3.10.6"
  }
 },
 "nbformat": 4,
 "nbformat_minor": 5
}
