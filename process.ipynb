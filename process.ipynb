{
 "cells": [
  {
   "cell_type": "code",
   "execution_count": 1,
   "id": "075fe5a0",
   "metadata": {},
   "outputs": [],
   "source": [
    "import os\n",
    "from datetime import datetime \n",
    "from datetime import timezone"
   ]
  },
  {
   "cell_type": "code",
   "execution_count": 2,
   "id": "1251c9f4",
   "metadata": {},
   "outputs": [],
   "source": [
    "from tabulate import tabulate\n",
    "import netCDF4\n",
    "from pystac import ItemCollection, Item, Asset"
   ]
  },
  {
   "cell_type": "code",
   "execution_count": 3,
   "id": "04ac7f2d",
   "metadata": {
    "tags": [
     "parameters"
    ]
   },
   "outputs": [],
   "source": [
    "input_stac_collection = 'test/stage_in/stage_in_results.json' # type: stage-in\n",
    "output_stac_collection = 'process_results.json' # type: stage-out\n",
    "\n",
    "# Filename written to the working directory\n",
    "summary_table_filename = \"summary_table.txt\"\n",
    "\n",
    "# Examples of arbitrary arguments of different data types\n",
    "example_argument_int = 1\n",
    "example_argument_float = 1.0\n",
    "example_argument_string = \"string\"\n",
    "example_argument_bool = True\n",
    "example_argument_empty = None"
   ]
  },
  {
   "cell_type": "markdown",
   "id": "7926d21b",
   "metadata": {},
   "source": [
    "# Output Example Arguments\n",
    "\n",
    "Table useful for debugging connection of arguments from CWL into notebook. Used for unity-app-generator development and as an example, not an application requirement."
   ]
  },
  {
   "cell_type": "code",
   "execution_count": 4,
   "id": "2eeaa5d4",
   "metadata": {},
   "outputs": [
    {
     "data": {
      "text/html": [
       "<table>\n",
       "<thead>\n",
       "<tr><th>argument_name          </th><th>type              </th><th>value  </th></tr>\n",
       "</thead>\n",
       "<tbody>\n",
       "<tr><td>example_argument_int   </td><td>&lt;class &#x27;int&#x27;&gt;     </td><td>1      </td></tr>\n",
       "<tr><td>example_argument_float </td><td>&lt;class &#x27;float&#x27;&gt;   </td><td>1.0    </td></tr>\n",
       "<tr><td>example_argument_string</td><td>&lt;class &#x27;str&#x27;&gt;     </td><td>string </td></tr>\n",
       "<tr><td>example_argument_bool  </td><td>&lt;class &#x27;bool&#x27;&gt;    </td><td>True   </td></tr>\n",
       "<tr><td>example_argument_empty </td><td>&lt;class &#x27;NoneType&#x27;&gt;</td><td>       </td></tr>\n",
       "</tbody>\n",
       "</table>"
      ],
      "text/plain": [
       "'<table>\\n<thead>\\n<tr><th>argument_name          </th><th>type              </th><th>value  </th></tr>\\n</thead>\\n<tbody>\\n<tr><td>example_argument_int   </td><td>&lt;class &#x27;int&#x27;&gt;     </td><td>1      </td></tr>\\n<tr><td>example_argument_float </td><td>&lt;class &#x27;float&#x27;&gt;   </td><td>1.0    </td></tr>\\n<tr><td>example_argument_string</td><td>&lt;class &#x27;str&#x27;&gt;     </td><td>string </td></tr>\\n<tr><td>example_argument_bool  </td><td>&lt;class &#x27;bool&#x27;&gt;    </td><td>True   </td></tr>\\n<tr><td>example_argument_empty </td><td>&lt;class &#x27;NoneType&#x27;&gt;</td><td>       </td></tr>\\n</tbody>\\n</table>'"
      ]
     },
     "execution_count": 4,
     "metadata": {},
     "output_type": "execute_result"
    }
   ],
   "source": [
    "argument_names = [\n",
    "    'example_argument_int',\n",
    "    'example_argument_float',\n",
    "    'example_argument_string',\n",
    "    'example_argument_bool',\n",
    "    'example_argument_empty',\n",
    "]\n",
    "\n",
    "table_data = []\n",
    "column_names = ['argument_name', 'type', 'value']\n",
    "for arg_name in argument_names:\n",
    "    arg_val = locals()[arg_name]\n",
    "    table_data.append( (arg_name, type(arg_val), arg_val) )\n",
    "\n",
    "tabulate(table_data, headers=column_names, tablefmt='html')"
   ]
  },
  {
   "cell_type": "markdown",
   "id": "60b7fa38",
   "metadata": {},
   "source": [
    "# Import Files from STAC Item Collection\n",
    "\n",
    "Load filenames from the stage_in STAC item collection file"
   ]
  },
  {
   "cell_type": "code",
   "execution_count": 5,
   "id": "3a09d57c",
   "metadata": {},
   "outputs": [],
   "source": [
    "import json\n",
    "\n",
    "with open(input_stac_collection, \"r\") as collection_file:\n",
    "    collection = ItemCollection.from_dict(json.load(collection_file))"
   ]
  },
  {
   "cell_type": "code",
   "execution_count": 6,
   "id": "72b03749",
   "metadata": {},
   "outputs": [],
   "source": [
    "data_filenames = []\n",
    "for item in collection.items:\n",
    "    for asset_key in item.assets:\n",
    "        asset = item.assets[asset_key]\n",
    "        data_filenames.append(asset.href)"
   ]
  },
  {
   "cell_type": "markdown",
   "id": "73e97444",
   "metadata": {},
   "source": [
    "# Summary Table\n",
    "\n",
    "AKA the result of this \"application\""
   ]
  },
  {
   "cell_type": "code",
   "execution_count": 7,
   "id": "9fbac209",
   "metadata": {},
   "outputs": [],
   "source": [
    "column_names = [\n",
    "    'product_name',\n",
    "    'product_name_type_id',\n",
    "    'shortname',\n",
    "    'product_version',\n",
    "    'date_created',\n",
    "    'time_coverage_start',\n",
    "    'time_coverage_end',\n",
    "    'geospatial_lat_mid',\n",
    "    'geospatial_lon_mid',\n",
    "]"
   ]
  },
  {
   "cell_type": "code",
   "execution_count": 8,
   "id": "d22c8670",
   "metadata": {},
   "outputs": [],
   "source": [
    "table_data = []\n",
    "for data_file in data_filenames:\n",
    "    nc_file = netCDF4.Dataset(data_file, \"r\")\n",
    "    \n",
    "    table_row = []\n",
    "    for col_name in column_names:\n",
    "        table_row.append(getattr(nc_file, col_name))\n",
    "    table_data.append(table_row)"
   ]
  },
  {
   "cell_type": "code",
   "execution_count": 9,
   "id": "3344bd15",
   "metadata": {},
   "outputs": [
    {
     "data": {
      "text/html": [
       "<table>\n",
       "<thead>\n",
       "<tr><th>product_name                                                               </th><th>product_name_type_id  </th><th>shortname  </th><th>product_version  </th><th>date_created        </th><th>time_coverage_start  </th><th>time_coverage_end   </th><th style=\"text-align: right;\">  geospatial_lat_mid</th><th style=\"text-align: right;\">  geospatial_lon_mid</th></tr>\n",
       "</thead>\n",
       "<tbody>\n",
       "<tr><td>SNDR.SS1330.CHIRP.20160822T0005.m06.g001.L1_AQ.std.v02_48.G.200425095850.nc</td><td>L1_AQ                 </td><td>SNDR13CHRP1</td><td>v02.48.00        </td><td>2021-04-25T05:59:08Z</td><td>2016-08-22T00:05:22Z </td><td>2016-08-22T00:11:22Z</td><td style=\"text-align: right;\">            -48.6062</td><td style=\"text-align: right;\">            12.4563 </td></tr>\n",
       "<tr><td>SNDR.SS1330.CHIRP.20160822T0011.m06.g002.L1_AQ.std.v02_48.G.200425095901.nc</td><td>L1_AQ                 </td><td>SNDR13CHRP1</td><td>v02.48.00        </td><td>2021-04-25T05:59:19Z</td><td>2016-08-22T00:11:22Z </td><td>2016-08-22T00:17:22Z</td><td style=\"text-align: right;\">            -69.3979</td><td style=\"text-align: right;\">            -1.98753</td></tr>\n",
       "</tbody>\n",
       "</table>"
      ],
      "text/plain": [
       "'<table>\\n<thead>\\n<tr><th>product_name                                                               </th><th>product_name_type_id  </th><th>shortname  </th><th>product_version  </th><th>date_created        </th><th>time_coverage_start  </th><th>time_coverage_end   </th><th style=\"text-align: right;\">  geospatial_lat_mid</th><th style=\"text-align: right;\">  geospatial_lon_mid</th></tr>\\n</thead>\\n<tbody>\\n<tr><td>SNDR.SS1330.CHIRP.20160822T0005.m06.g001.L1_AQ.std.v02_48.G.200425095850.nc</td><td>L1_AQ                 </td><td>SNDR13CHRP1</td><td>v02.48.00        </td><td>2021-04-25T05:59:08Z</td><td>2016-08-22T00:05:22Z </td><td>2016-08-22T00:11:22Z</td><td style=\"text-align: right;\">            -48.6062</td><td style=\"text-align: right;\">            12.4563 </td></tr>\\n<tr><td>SNDR.SS1330.CHIRP.20160822T0011.m06.g002.L1_AQ.std.v02_48.G.200425095901.nc</td><td>L1_AQ                 </td><td>SNDR13CHRP1</td><td>v02.48.00        </td><td>2021-04-25T05:59:19Z</td><td>2016-08-22T00:11:22Z </td><td>2016-08-22T00:17:22Z</td><td style=\"text-align: right;\">            -69.3979</td><td style=\"text-align: right;\">            -1.98753</td></tr>\\n</tbody>\\n</table>'"
      ]
     },
     "execution_count": 9,
     "metadata": {},
     "output_type": "execute_result"
    }
   ],
   "source": [
    "tabulate(table_data, headers=column_names, tablefmt='html')"
   ]
  },
  {
   "cell_type": "code",
   "execution_count": 10,
   "id": "014257f3",
   "metadata": {},
   "outputs": [],
   "source": [
    "with open(summary_table_filename, \"w\") as summary_file:\n",
    "    summary_file.write(tabulate(table_data, headers=column_names))"
   ]
  },
  {
   "cell_type": "markdown",
   "id": "89224c4e",
   "metadata": {},
   "source": [
    "# Create stage-out item collection"
   ]
  },
  {
   "cell_type": "code",
   "execution_count": 11,
   "id": "b48d4ffd",
   "metadata": {},
   "outputs": [],
   "source": [
    "output_item = Item(\n",
    "    id=os.path.splitext(summary_table_filename)[0],\n",
    "    geometry=\"\",\n",
    "    bbox=\"\",\n",
    "    datetime=datetime.now(timezone.utc),\n",
    "    properties={\n",
    "        \"datetime\": datetime.now(timezone.utc).isoformat().replace('+00:00', 'Z'),\n",
    "        \"start_datetime\": datetime.now(timezone.utc).isoformat().replace('+00:00', 'Z'),\n",
    "        \"end_datetime\": datetime.now(timezone.utc).isoformat().replace('+00:00', 'Z'),\n",
    "        \"created\": datetime.now(timezone.utc).isoformat().replace('+00:00', 'Z'),\n",
    "        \"updated\": datetime.now(timezone.utc).isoformat().replace('+00:00', 'Z'),\n",
    "    },\n",
    "    assets={\n",
    "        \"data\": Asset(href=summary_table_filename,title=\"Main Data File\"),\n",
    "    }\n",
    ")\n",
    "\n",
    "output_collection = ItemCollection([output_item])"
   ]
  },
  {
   "cell_type": "code",
   "execution_count": 12,
   "id": "f63f5499",
   "metadata": {},
   "outputs": [],
   "source": [
    "with open(output_stac_collection, \"w\") as collection_file:\n",
    "    json.dump(output_collection.to_dict(), collection_file)"
   ]
  }
 ],
 "metadata": {
  "celltoolbar": "Tags",
  "kernelspec": {
   "display_name": "Python 3 (ipykernel)",
   "language": "python",
   "name": "python3"
  },
  "language_info": {
   "codemirror_mode": {
    "name": "ipython",
    "version": 3
   },
   "file_extension": ".py",
   "mimetype": "text/x-python",
   "name": "python",
   "nbconvert_exporter": "python",
   "pygments_lexer": "ipython3",
   "version": "3.10.6"
  }
 },
 "nbformat": 4,
 "nbformat_minor": 5
}
